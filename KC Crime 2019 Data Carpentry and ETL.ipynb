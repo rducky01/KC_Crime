{
 "cells": [
  {
   "cell_type": "markdown",
   "metadata": {},
   "source": [
    "# 2019 KCPD Crime Data Aquisition, Carpentry, and Database Load."
   ]
  },
  {
   "cell_type": "markdown",
   "metadata": {},
   "source": [
    "In this notebook I download the 2019 KCDP crime data from data.kcmo.org, format it, and load it into a SQLite database."
   ]
  },
  {
   "cell_type": "markdown",
   "metadata": {},
   "source": [
    "#### This is a Socrata dataset so I'm going to try installing and using the sodapy package."
   ]
  },
  {
   "cell_type": "code",
   "execution_count": 1,
   "metadata": {},
   "outputs": [
    {
     "name": "stdout",
     "output_type": "stream",
     "text": [
      "Requirement already satisfied: sodapy in /home/rducky/anaconda3/lib/python3.7/site-packages (1.5.4)\n",
      "Requirement already satisfied: future>=0.17.1 in /home/rducky/anaconda3/lib/python3.7/site-packages (from sodapy) (0.17.1)\n",
      "Requirement already satisfied: requests>=2.20.0 in /home/rducky/anaconda3/lib/python3.7/site-packages (from sodapy) (2.22.0)\n",
      "Requirement already satisfied: chardet<3.1.0,>=3.0.2 in /home/rducky/anaconda3/lib/python3.7/site-packages (from requests>=2.20.0->sodapy) (3.0.4)\n",
      "Requirement already satisfied: certifi>=2017.4.17 in /home/rducky/anaconda3/lib/python3.7/site-packages (from requests>=2.20.0->sodapy) (2019.6.16)\n",
      "Requirement already satisfied: urllib3!=1.25.0,!=1.25.1,<1.26,>=1.21.1 in /home/rducky/anaconda3/lib/python3.7/site-packages (from requests>=2.20.0->sodapy) (1.25.3)\n",
      "Requirement already satisfied: idna<2.9,>=2.5 in /home/rducky/anaconda3/lib/python3.7/site-packages (from requests>=2.20.0->sodapy) (2.8)\n",
      "Note: you may need to restart the kernel to use updated packages.\n"
     ]
    }
   ],
   "source": [
    "pip install sodapy"
   ]
  },
  {
   "cell_type": "markdown",
   "metadata": {},
   "source": [
    "#### Load neccesary packages."
   ]
  },
  {
   "cell_type": "code",
   "execution_count": 2,
   "metadata": {},
   "outputs": [],
   "source": [
    "import pandas as pd\n",
    "import numpy as np\n",
    "from dateutil import parser\n",
    "import datetime\n",
    "import json\n",
    "import sodapy\n",
    "import sqlite3"
   ]
  },
  {
   "cell_type": "markdown",
   "metadata": {},
   "source": [
    "#### Get JSON object and place it in a Pandas DataFrame."
   ]
  },
  {
   "cell_type": "code",
   "execution_count": 3,
   "metadata": {},
   "outputs": [],
   "source": [
    "client = sodapy.Socrata(domain = \"data.kcmo.org\", app_token = \"2BlqNquer3Zje80NhkrNCNJyU\")"
   ]
  },
  {
   "cell_type": "code",
   "execution_count": 4,
   "metadata": {},
   "outputs": [],
   "source": [
    "rows =client.get(\"pxaa-ahcm\", limit = 200000)"
   ]
  },
  {
   "cell_type": "code",
   "execution_count": 5,
   "metadata": {},
   "outputs": [],
   "source": [
    "kcCrime = pd.DataFrame.from_records(rows)"
   ]
  },
  {
   "cell_type": "markdown",
   "metadata": {},
   "source": [
    "#### Explore the data."
   ]
  },
  {
   "cell_type": "code",
   "execution_count": 6,
   "metadata": {},
   "outputs": [
    {
     "data": {
      "text/plain": [
       "36132"
      ]
     },
     "execution_count": 6,
     "metadata": {},
     "output_type": "execute_result"
    }
   ],
   "source": [
    "len(kcCrime)"
   ]
  },
  {
   "cell_type": "code",
   "execution_count": 7,
   "metadata": {
    "scrolled": true
   },
   "outputs": [
    {
     "data": {
      "text/html": [
       "<div>\n",
       "<style scoped>\n",
       "    .dataframe tbody tr th:only-of-type {\n",
       "        vertical-align: middle;\n",
       "    }\n",
       "\n",
       "    .dataframe tbody tr th {\n",
       "        vertical-align: top;\n",
       "    }\n",
       "\n",
       "    .dataframe thead th {\n",
       "        text-align: right;\n",
       "    }\n",
       "</style>\n",
       "<table border=\"1\" class=\"dataframe\">\n",
       "  <thead>\n",
       "    <tr style=\"text-align: right;\">\n",
       "      <th></th>\n",
       "      <th>report_no</th>\n",
       "      <th>reported_date</th>\n",
       "      <th>reported_time</th>\n",
       "      <th>from_date</th>\n",
       "      <th>from_time</th>\n",
       "      <th>offense</th>\n",
       "      <th>ibrs</th>\n",
       "      <th>description</th>\n",
       "      <th>beat</th>\n",
       "      <th>address</th>\n",
       "      <th>...</th>\n",
       "      <th>to_date</th>\n",
       "      <th>to_time</th>\n",
       "      <th>race</th>\n",
       "      <th>sex</th>\n",
       "      <th>age</th>\n",
       "      <th>location</th>\n",
       "      <th>:@computed_region_kk66_ngf4</th>\n",
       "      <th>:@computed_region_9t2m_phkm</th>\n",
       "      <th>:@computed_region_my34_vmp8</th>\n",
       "      <th>:@computed_region_w4hf_t6bp</th>\n",
       "    </tr>\n",
       "  </thead>\n",
       "  <tbody>\n",
       "    <tr>\n",
       "      <th>0</th>\n",
       "      <td>KC19019779</td>\n",
       "      <td>2019-03-18T00:00:00.000</td>\n",
       "      <td>14:18</td>\n",
       "      <td>2019-03-18T00:00:00.000</td>\n",
       "      <td>14:30</td>\n",
       "      <td>Stealing – Shoplift</td>\n",
       "      <td>23C</td>\n",
       "      <td>Shoplifting</td>\n",
       "      <td>345</td>\n",
       "      <td>11600 E US 40 HWY</td>\n",
       "      <td>...</td>\n",
       "      <td>NaN</td>\n",
       "      <td>NaN</td>\n",
       "      <td>NaN</td>\n",
       "      <td>NaN</td>\n",
       "      <td>NaN</td>\n",
       "      <td>NaN</td>\n",
       "      <td>NaN</td>\n",
       "      <td>NaN</td>\n",
       "      <td>NaN</td>\n",
       "      <td>NaN</td>\n",
       "    </tr>\n",
       "    <tr>\n",
       "      <th>1</th>\n",
       "      <td>KC19019997</td>\n",
       "      <td>2019-03-19T00:00:00.000</td>\n",
       "      <td>10:14</td>\n",
       "      <td>2019-03-18T00:00:00.000</td>\n",
       "      <td>23:00</td>\n",
       "      <td>Stealing from Auto (Theft from Auto)</td>\n",
       "      <td>23F</td>\n",
       "      <td>Theft From Motor Vehicle</td>\n",
       "      <td>412</td>\n",
       "      <td>5600 N MARSTON AVE</td>\n",
       "      <td>...</td>\n",
       "      <td>2019-03-19T00:00:00.000</td>\n",
       "      <td>7:00</td>\n",
       "      <td>W</td>\n",
       "      <td>F</td>\n",
       "      <td>26</td>\n",
       "      <td>NaN</td>\n",
       "      <td>NaN</td>\n",
       "      <td>NaN</td>\n",
       "      <td>NaN</td>\n",
       "      <td>NaN</td>\n",
       "    </tr>\n",
       "    <tr>\n",
       "      <th>2</th>\n",
       "      <td>KC19020932</td>\n",
       "      <td>2019-03-22T00:00:00.000</td>\n",
       "      <td>9:49</td>\n",
       "      <td>2019-03-22T00:00:00.000</td>\n",
       "      <td>10:45</td>\n",
       "      <td>City/Municipal Warrant Arrest</td>\n",
       "      <td>NaN</td>\n",
       "      <td>NaN</td>\n",
       "      <td>999</td>\n",
       "      <td>00 S WATER ST</td>\n",
       "      <td>...</td>\n",
       "      <td>NaN</td>\n",
       "      <td>NaN</td>\n",
       "      <td>W</td>\n",
       "      <td>M</td>\n",
       "      <td>43</td>\n",
       "      <td>NaN</td>\n",
       "      <td>NaN</td>\n",
       "      <td>NaN</td>\n",
       "      <td>NaN</td>\n",
       "      <td>NaN</td>\n",
       "    </tr>\n",
       "    <tr>\n",
       "      <th>3</th>\n",
       "      <td>KC19021110</td>\n",
       "      <td>2019-03-22T00:00:00.000</td>\n",
       "      <td>21:38</td>\n",
       "      <td>2019-03-22T00:00:00.000</td>\n",
       "      <td>21:30</td>\n",
       "      <td>Stealing – Shoplift</td>\n",
       "      <td>23C</td>\n",
       "      <td>Shoplifting</td>\n",
       "      <td>423</td>\n",
       "      <td>8400 N MADISON AVE</td>\n",
       "      <td>...</td>\n",
       "      <td>NaN</td>\n",
       "      <td>NaN</td>\n",
       "      <td>B</td>\n",
       "      <td>F</td>\n",
       "      <td>NaN</td>\n",
       "      <td>{'latitude': '39.248015', 'longitude': '-94.59...</td>\n",
       "      <td>180</td>\n",
       "      <td>5</td>\n",
       "      <td>4</td>\n",
       "      <td>82</td>\n",
       "    </tr>\n",
       "    <tr>\n",
       "      <th>4</th>\n",
       "      <td>KC19021677</td>\n",
       "      <td>2019-03-25T00:00:00.000</td>\n",
       "      <td>15:34</td>\n",
       "      <td>2019-03-21T00:00:00.000</td>\n",
       "      <td>16:00</td>\n",
       "      <td>Stealing from Building/Residence</td>\n",
       "      <td>23D</td>\n",
       "      <td>Theft From Building</td>\n",
       "      <td>NaN</td>\n",
       "      <td>00 E 14 ST</td>\n",
       "      <td>...</td>\n",
       "      <td>2019-03-21T00:00:00.000</td>\n",
       "      <td>18:43</td>\n",
       "      <td>W</td>\n",
       "      <td>F</td>\n",
       "      <td>54</td>\n",
       "      <td>NaN</td>\n",
       "      <td>NaN</td>\n",
       "      <td>NaN</td>\n",
       "      <td>NaN</td>\n",
       "      <td>NaN</td>\n",
       "    </tr>\n",
       "  </tbody>\n",
       "</table>\n",
       "<p>5 rows × 27 columns</p>\n",
       "</div>"
      ],
      "text/plain": [
       "    report_no            reported_date reported_time                from_date  \\\n",
       "0  KC19019779  2019-03-18T00:00:00.000         14:18  2019-03-18T00:00:00.000   \n",
       "1  KC19019997  2019-03-19T00:00:00.000         10:14  2019-03-18T00:00:00.000   \n",
       "2  KC19020932  2019-03-22T00:00:00.000          9:49  2019-03-22T00:00:00.000   \n",
       "3  KC19021110  2019-03-22T00:00:00.000         21:38  2019-03-22T00:00:00.000   \n",
       "4  KC19021677  2019-03-25T00:00:00.000         15:34  2019-03-21T00:00:00.000   \n",
       "\n",
       "  from_time                               offense ibrs  \\\n",
       "0     14:30                   Stealing – Shoplift  23C   \n",
       "1     23:00  Stealing from Auto (Theft from Auto)  23F   \n",
       "2     10:45         City/Municipal Warrant Arrest  NaN   \n",
       "3     21:30                   Stealing – Shoplift  23C   \n",
       "4     16:00      Stealing from Building/Residence  23D   \n",
       "\n",
       "                description beat             address  ...  \\\n",
       "0               Shoplifting  345   11600 E US 40 HWY  ...   \n",
       "1  Theft From Motor Vehicle  412  5600 N MARSTON AVE  ...   \n",
       "2                       NaN  999       00 S WATER ST  ...   \n",
       "3               Shoplifting  423  8400 N MADISON AVE  ...   \n",
       "4       Theft From Building  NaN          00 E 14 ST  ...   \n",
       "\n",
       "                   to_date to_time race  sex  age  \\\n",
       "0                      NaN     NaN  NaN  NaN  NaN   \n",
       "1  2019-03-19T00:00:00.000    7:00    W    F   26   \n",
       "2                      NaN     NaN    W    M   43   \n",
       "3                      NaN     NaN    B    F  NaN   \n",
       "4  2019-03-21T00:00:00.000   18:43    W    F   54   \n",
       "\n",
       "                                            location  \\\n",
       "0                                                NaN   \n",
       "1                                                NaN   \n",
       "2                                                NaN   \n",
       "3  {'latitude': '39.248015', 'longitude': '-94.59...   \n",
       "4                                                NaN   \n",
       "\n",
       "   :@computed_region_kk66_ngf4 :@computed_region_9t2m_phkm  \\\n",
       "0                          NaN                         NaN   \n",
       "1                          NaN                         NaN   \n",
       "2                          NaN                         NaN   \n",
       "3                          180                           5   \n",
       "4                          NaN                         NaN   \n",
       "\n",
       "  :@computed_region_my34_vmp8 :@computed_region_w4hf_t6bp  \n",
       "0                         NaN                         NaN  \n",
       "1                         NaN                         NaN  \n",
       "2                         NaN                         NaN  \n",
       "3                           4                          82  \n",
       "4                         NaN                         NaN  \n",
       "\n",
       "[5 rows x 27 columns]"
      ]
     },
     "execution_count": 7,
     "metadata": {},
     "output_type": "execute_result"
    }
   ],
   "source": [
    "kcCrime.head()"
   ]
  },
  {
   "cell_type": "code",
   "execution_count": 8,
   "metadata": {},
   "outputs": [
    {
     "data": {
      "text/plain": [
       "report_no                      object\n",
       "reported_date                  object\n",
       "reported_time                  object\n",
       "from_date                      object\n",
       "from_time                      object\n",
       "offense                        object\n",
       "ibrs                           object\n",
       "description                    object\n",
       "beat                           object\n",
       "address                        object\n",
       "city                           object\n",
       "zip_code                       object\n",
       "rep_dist                       object\n",
       "area                           object\n",
       "dvflag                         object\n",
       "involvement                    object\n",
       "firearm_used_flag                bool\n",
       "to_date                        object\n",
       "to_time                        object\n",
       "race                           object\n",
       "sex                            object\n",
       "age                            object\n",
       "location                       object\n",
       ":@computed_region_kk66_ngf4    object\n",
       ":@computed_region_9t2m_phkm    object\n",
       ":@computed_region_my34_vmp8    object\n",
       ":@computed_region_w4hf_t6bp    object\n",
       "dtype: object"
      ]
     },
     "execution_count": 8,
     "metadata": {},
     "output_type": "execute_result"
    }
   ],
   "source": [
    "kcCrime.dtypes"
   ]
  },
  {
   "cell_type": "code",
   "execution_count": 9,
   "metadata": {
    "scrolled": true
   },
   "outputs": [
    {
     "data": {
      "text/plain": [
       "array([False,  True])"
      ]
     },
     "execution_count": 9,
     "metadata": {},
     "output_type": "execute_result"
    }
   ],
   "source": [
    "kcCrime['firearm_used_flag'].unique()"
   ]
  },
  {
   "cell_type": "code",
   "execution_count": 10,
   "metadata": {},
   "outputs": [
    {
     "data": {
      "text/plain": [
       "array(['KANSAS CITY', 'LIBERTY', 'BELTON', 'LEES SUMMIT', 'KANSAAS CITY',\n",
       "       'PLATTE CITY', 'INDEP', 'GLADSTONE', 'GRANDVIEW', 'OVERLAND PARK',\n",
       "       'KASNAS CITY', 'KANASAS CITY', 'RIVERSIDE', 'KANSAS CITY MISSOURI',\n",
       "       'CEDAR HILL', 'LENEXA', 'INDEPENDENCE', 'KC', nan, 'NKC',\n",
       "       'SUGAR CREEK', 'KANSAS CTY', 'KANSA CITY',\n",
       "       'KANSAS CITY MISSOURI USA', 'BLUE SPRINGS', 'SHAWNEE', 'ST JOSEPH',\n",
       "       'FARMINGTON', 'RAYTOWN', 'KANAS CITY', 'SPRINGFIELD', 'KCK',\n",
       "       'KANSAS CIY', 'NORTH KANSAS CITY', 'KANSAS', 'JEFFERSON CITY',\n",
       "       'RAYMORE', 'KANSASCITY', 'KANSAS CIYT', 'DODGE CITY', 'MEXICO',\n",
       "       \"LEE'S SUMMIT\", 'KANSAS CITIY', 'KANSASS CITY', 'CAMERON',\n",
       "       'HARRISONVILLE', 'KANSAS CITYY', 'KANSS CITY', 'KNASAS CITY',\n",
       "       'KANSAS CTITY', 'EXCELSIOR SPRINGS', 'KANSAS CTIY', 'KANSAS CIITY',\n",
       "       'UNKNOWN', 'KANSAS UNIT', 'CAPE CANAVERAL', 'CENTERVIEW',\n",
       "       'PLEASANT VALLEY', 'KNSAS CITY', 'KINGSTON', 'KANSA SCITY',\n",
       "       'FULTON', 'DESERT HOT SPRINGS', 'KANSAS C ITY', '39', 'SMITHVILLE',\n",
       "       'KANSAS CITH', 'WALNUT', 'PARKVILLE', 'CLAYCOMO', 'LICKING',\n",
       "       'INDPENDENCE', 'PLATTE WOODS', 'OLATHE', 'LEE SUMMIT'],\n",
       "      dtype=object)"
      ]
     },
     "execution_count": 10,
     "metadata": {},
     "output_type": "execute_result"
    }
   ],
   "source": [
    "kcCrime['city'].unique()"
   ]
  },
  {
   "cell_type": "code",
   "execution_count": 11,
   "metadata": {},
   "outputs": [
    {
     "data": {
      "text/plain": [
       "{'latitude': '39.06078',\n",
       " 'longitude': '-94.555626',\n",
       " 'human_address': '{\"address\": \"3600 OLIVE ST\", \"city\": \"KANSAS CITY\", \"state\": \"\", \"zip\": \"\"}'}"
      ]
     },
     "execution_count": 11,
     "metadata": {},
     "output_type": "execute_result"
    }
   ],
   "source": [
    "kcCrime['location'][12]"
   ]
  },
  {
   "cell_type": "code",
   "execution_count": 12,
   "metadata": {},
   "outputs": [
    {
     "data": {
      "text/plain": [
       "array(['N', 'Y'], dtype=object)"
      ]
     },
     "execution_count": 12,
     "metadata": {},
     "output_type": "execute_result"
    }
   ],
   "source": [
    "kcCrime['dvflag'].unique()"
   ]
  },
  {
   "cell_type": "code",
   "execution_count": 13,
   "metadata": {
    "scrolled": true
   },
   "outputs": [
    {
     "data": {
      "text/plain": [
       "array(['VIC', 'ARR CHA', 'ARR CHA SUS', 'ARR CHA SOC', 'SUS', 'ARR SUS',\n",
       "       'ARR CHA VDR', 'CMP VIC', 'CHA VDR', 'ARR SUS CHA VDR', 'VIC VDR',\n",
       "       'ARR CHA SUS VDR', 'SUS SOC', 'CMP VIC A01', 'VIC SUS', 'CHA INA',\n",
       "       'ARR SUS CHA', 'INA SUS', 'VIC DEC', 'VIC SUS OTH',\n",
       "       'ARR SUS A02 CHA VPA', 'ARR CHA INA SUS', 'CHA SUS', 'CHA',\n",
       "       'ARR CHA SUS VPA', 'ARR CHA CMP SUS', 'VIC A02', 'ARR', 'VIC WIT',\n",
       "       'ARR CHA INA', 'ARR CHA INA SUS VDR', 'CMP VIC RES', 'CMP VIC VDR',\n",
       "       'CHA SOC', 'ARR VIC SUS CHA', 'VIC SWM', 'VIC A02 VDR', 'CMP SUS',\n",
       "       'VIC   OTH', 'ARR VPA', 'CHA INA SUS', 'INA ARR SUS',\n",
       "       'CMP VIC SUS', 'VIC CNS', 'SUS VDR', 'SUS SOC VDR', 'SUS CHA',\n",
       "       'ARR VDR', 'ARR CHA PED', 'SUS VPA', 'ARR CHA SUS VIC',\n",
       "       'INA ARR SUS CHA VPA', 'CMP VIC WIT', 'SUS PNT',\n",
       "       'CHA INA SOC SUS VDR', 'ARR CHA VPA', 'ARR CHA OTH',\n",
       "       'INA ARR SUS CHA', 'CHA INA SUS VDR', 'ARR SOC', 'CHA VIC',\n",
       "       'VIC   LOD', 'INA ARR SUS CHA VDR', 'SUS SOC CHA',\n",
       "       'ARR CHA INA VPA', 'ARR CMP SUS CHA', 'ARR CHA SUS WIT', 'VIC VPA',\n",
       "       'CMP VIC A02', 'SUS OTH', 'CHA INA SUS VPA', 'SUS VIC',\n",
       "       'CMP VIC WIT POD', 'CMP VIC VOD SWM', 'VIC POD', 'INA',\n",
       "       'ARR SUS RES', 'VIC   RNA LOD', 'VIC VOD', 'ARR CHA SOC SUS',\n",
       "       'ARR CHA CMP', 'VIC OTH', 'A01 CHA', 'ARR CHA PED SUS',\n",
       "       'VIC POD A02', 'VIC A01', 'A02 ARR CHA VDR', 'DEC VIC', 'VIC MIS',\n",
       "       'ARR CHA INA SUS VPA', 'INA ARR CHA', 'A02 ARR CHA SUS VDR',\n",
       "       'SUS WIT', 'ARR SUS CHA VDR PED', 'INA SUS CHA VDR', 'SUS PED',\n",
       "       'ARR SUS VDR', 'CHA INA OTH SOC', 'INA SUS CHA', 'A02 ARR CHA SUS',\n",
       "       'ARR SUS WIT CHA', 'SUS CHA VDR', 'VIC OOA', 'CHA WIT',\n",
       "       'VIC A01 A02', 'ARR SUS SOC CHA', 'ARR CHA OTH SUS', 'SUS A02',\n",
       "       'ARR SUS CHA VPA', 'WIT SUS', 'VOD', 'VIC   RNA', 'SUS SOC PNT',\n",
       "       'A02 CHA VDR', 'SUS WIT CHA', 'VIC A01 DEC', 'ARR CHA CMP SUS VDR',\n",
       "       'VIC BCY', 'INA VPA', 'ARR BCY CHA INA SUS', 'CHA CMP SUS',\n",
       "       'VIC PED', 'CHA OTH VDR', 'VIC WIT A02', 'ARR CHA VIC',\n",
       "       'CHA CMP WIT', 'INA ARR SUS VDR', 'INA SUS CHA VPA', 'SUS A01 VPA',\n",
       "       'CMP VIC A01 A02', 'VIC SOC', 'ARR VIC', 'ARR SOC VDR',\n",
       "       'A01 ARR CHA SUS', 'CMP VIC VPA LOD', 'SOC SUS', 'CMP VIC POD',\n",
       "       'VIC   BCY', 'A01 ARR CHA INA SUS', 'INA VIC SUS', 'INA ARR',\n",
       "       'ARR SUS VPA', 'A02 ARR CHA', 'RNA VIC', 'ARR CHA CMP PED SUS',\n",
       "       'ARR CHA CMP INA SUS', 'SUS A01', 'VIC SUS WIT OTH', 'A02 SUS',\n",
       "       'SUS RES', 'CMP VIC WIT A01 A02 SCK', 'INA SOC CHA VPA',\n",
       "       'VIC   SUS', 'INA ARR VDR', 'SUS SCK', 'ARR SOC CHA VPA',\n",
       "       'ARR SUS A02 CHA VDR', 'ARR OTH', 'ARR OTH VPA', 'VIC PNT',\n",
       "       'INA CMP SUS CHA', 'VIC VOD SWM', 'ARR CHA CMP WIT', 'ARR VIC SUS',\n",
       "       'VIC A01 POD', 'VIC SUS CHA', 'CHA SUS VDR', 'ARR INA SUS',\n",
       "       'A02 ARR SUS', 'CHA CMP SUS VIC', 'INA ARR SOC CHA',\n",
       "       'ARR CHA SCK SUS VDR', 'OTH VIC', 'SUS CNS', 'ARR OOA',\n",
       "       'CMP VIC POD A02', 'ARR CHA OTH VDR', 'VIC MIS LOD',\n",
       "       'ARR CHA INA OTH', 'INA VDR', 'INA CHA', 'VIC SUS VDR', 'VIC A10',\n",
       "       'INA SUS VDR', 'ARR CMP CHA VDR', 'ARR CMP SUS CHA VDR',\n",
       "       'ARR CHA SCK SUS', 'ARR A02 CHA', 'CHA CNS', 'VIC A01 POD SCK',\n",
       "       'ARR CHA OTH SUS VDR', 'ARR CHA CMP INA', 'INA SUS VDR VPA',\n",
       "       'A02 CHA', 'CHA VPA', 'ARR INA SOC SUS', 'CHA OTH', 'CMP VIC SOC',\n",
       "       'ARR CMP SUS', 'INA SUS VPA', 'ARR SUS OTH', 'ARR MOT',\n",
       "       'VIC A02 VPA', 'VIC SUS A01', 'SUS   RNA',\n",
       "       'A01 ARR CHA INA SUS VDR', 'ARR SUS SOC CHA VPA',\n",
       "       'A01 ARR CHA INA VDR', 'VIC SCK', 'CHA CMP VIC', 'ARR A02 VDR',\n",
       "       'VIC RNA', 'SUS   RNA LOD', 'VIC POD A02 VDR',\n",
       "       'ARR CHA INA SOC SUS VDR', 'ARR CHA INA VDR', 'INA ARR SUS OTH',\n",
       "       'OTH SUS', 'VIC CHA VDR', 'CMP WIT SUS', 'CHA CMP', 'CHA SUS VIC',\n",
       "       'ARR A02 CHA VPA', 'ARR BCY CHA', 'CHA PED', 'SUS DEC',\n",
       "       'ARR SUS A02 VDR'], dtype=object)"
      ]
     },
     "execution_count": 13,
     "metadata": {},
     "output_type": "execute_result"
    }
   ],
   "source": [
    "kcCrime['involvement'].unique()"
   ]
  },
  {
   "cell_type": "code",
   "execution_count": 14,
   "metadata": {
    "scrolled": true
   },
   "outputs": [
    {
     "data": {
      "text/plain": [
       "array(['Stealing – Shoplift', 'Stealing from Auto (Theft from Auto)',\n",
       "       'City/Municipal Warrant Arrest',\n",
       "       'Stealing from Building/Residence',\n",
       "       'Legacy Incident Report/Arrest', 'Stealing – Other',\n",
       "       'Embezzlement', 'State Warrant Arrest', 'Vehicular – Injury',\n",
       "       'Domestic Violence Assault (Non-Aggravated)',\n",
       "       'Assault (Non-Aggravated)', 'Recovered Property',\n",
       "       'Obstructing and Resisting an Officer',\n",
       "       'Eluding / Resisting a Lawful Stop',\n",
       "       'Robbery (Strong Armed Street)', 'Assault (Aggravated)',\n",
       "       'Property Damage', 'Burglary (Non-Residential)',\n",
       "       'Recovered Stolen Auto', 'Burglary (Residential)',\n",
       "       'Vehicular – Non-Injury', 'Stolen Auto', 'Dead Body',\n",
       "       'Harassment / Intimidation - Sex Crimes',\n",
       "       'Possession/Distribution of Child Pornography',\n",
       "       'Outside State Warrant Arrest', 'Rape', 'Terroristic Threats',\n",
       "       'Alcohol Influence Report', 'Loss', 'Kidnapping', 'Unfounded',\n",
       "       'Trespass of Real Property', 'Robbery (Residential)', 'Murder',\n",
       "       'Interdiction', 'Sexual Misconduct', 'Sodomy',\n",
       "       'Robbery (Armed Street)', 'Possession of Stolen Property',\n",
       "       'Suicide – Attempted', 'Miscellaneous Investigation',\n",
       "       'Disorderly Conduct',\n",
       "       'Stealing from Auto (Auto Part or Accessory)',\n",
       "       'Robbery (Business)', 'Arson', 'Molestation', 'Casualty',\n",
       "       'Abuse of a Child', 'Domestic Violence Assault (Aggravated)',\n",
       "       'Identity Theft', 'Missing/Runaway Juvenile',\n",
       "       'Possession/Sale/Distribution of a Controlled Substance',\n",
       "       'Violation of Full Order of Protection', 'Forgery',\n",
       "       'Promoting Prostitution',\n",
       "       'Violation of Ex-Parte Order of Protection',\n",
       "       'Stealing – Pickpocket', 'Sodomy - Juvenile',\n",
       "       'Fraud / Stealing Through Deceit (Scam/Confidence Game)',\n",
       "       'Driving While Suspended/Revoked (State Offense)',\n",
       "       'Animal Abuse/Cruelty', 'Stealing – Purse Snatch',\n",
       "       'Domestic Violence Robbery (Armed)',\n",
       "       'Endangering the Welfare of a Child', 'Discharge of Firearm',\n",
       "       'Vehicular – Fatality', 'Domestic Violence Property Damage',\n",
       "       'Fraudulent Use of a Credit Device',\n",
       "       'Harassment / Intimidation - Domestic Violence',\n",
       "       'Vehicular – Non-Injury Hit and Run', 'False Report',\n",
       "       'Mental Health/Crisis Intervention Team (CIT) Report',\n",
       "       'Trafficking in Identifications', 'Vehicular – Injury Hit and Run',\n",
       "       'Miscellaneous City Ordinance Violation', 'Liquor Law Violation',\n",
       "       'Missing Person', 'Sexual Misconduct - Juvenile', 'Buy Report',\n",
       "       'Felon/Prohibited Person in Possession of a Firearm/Ammunition/Body Armor',\n",
       "       'Possession of Illegal Firearm',\n",
       "       'Assault (Non-Aggravated) on Department Member/Outside Law Enforcement Officer',\n",
       "       'Sexual Abuse', 'Rape - Juvenile',\n",
       "       'Domestic Violence Robbery (Strong-Armed)',\n",
       "       'Attempt to Locate Motor Vehicle',\n",
       "       'Service of an Ex-Parte Order of Protection', 'Tampering',\n",
       "       'Soliciting Prostitution', 'Robbery (Financial Institution)',\n",
       "       'Impersonation of Another Person', 'Child Custody Violation',\n",
       "       'Possession of Drug Paraphernalia',\n",
       "       'Financial Exploitation of the Elderly',\n",
       "       'Patronizing Prostitution',\n",
       "       'Possession/Sale/Distribution of an Imitation Controlled Substance',\n",
       "       'Invasion of Privacy', 'Domestic Violence Burglary (Residential)',\n",
       "       'Fraudulently Obtaining a Controlled Substance',\n",
       "       'Human Trafficking/Involuntary Servitude',\n",
       "       'Assault (Aggravated) on Department Member/Outside Law Enforcement Officer',\n",
       "       'Stealing from Coin Operated Device', 'Juvenile Apprehension',\n",
       "       'Elder Abuse', 'Failure to Return Leased or Rented Property',\n",
       "       'Rape – Statutory', 'Suicide',\n",
       "       'Tow-In Report/Authorization Not to Tow', 'False Bomb Report',\n",
       "       'Sexual Abuse - Juvenile', 'Receiving Stolen Property', 'Stalking',\n",
       "       'Burning or Exploding', 'Passing Bad Checks',\n",
       "       'Enticement of a Minor', 'Parental Abduction',\n",
       "       'Abandonment of a Child', 'Hacking/Computer Invasion',\n",
       "       'Unlawful Endangerment of Another', 'Outside Correspondence',\n",
       "       'Service of a Full Order of Protection',\n",
       "       'Tavern/Nightclub Response Report',\n",
       "       'Escape from Custody/Confinement',\n",
       "       'Tampering with Physical Evidence', 'Illegal Alien',\n",
       "       'Confiscated Firearm', 'Carrying a Concealed Weapon', 'Incest',\n",
       "       'Recovered Missing/Runaway Juvenile',\n",
       "       'Human Trafficking/Commercial Sex Acts'], dtype=object)"
      ]
     },
     "execution_count": 14,
     "metadata": {},
     "output_type": "execute_result"
    }
   ],
   "source": [
    "kcCrime['offense'].unique()"
   ]
  },
  {
   "cell_type": "code",
   "execution_count": 38,
   "metadata": {},
   "outputs": [
    {
     "data": {
      "text/plain": [
       "array([nan, '26', '43', '54', '27', '30', '52', '28', '49', '25', '56',\n",
       "       '29', '50', '53', '44', '19', '72', '42', '36', '40', '58', '18',\n",
       "       '51', '24', '35', '41', '21', '31', '45', '79', '60', '66', '38',\n",
       "       '34', '37', '55', '48', '39', '57', '59', '70', '23', '61', '83',\n",
       "       '63', '68', '65', '62', '22', '20', '33', '82', '73', '47', '64',\n",
       "       '32', '46', '92', '77', '71', '80', '85', '67', '69', '78', '88',\n",
       "       '76', '97', '74', '75', '84', '81', '95', '87', '93', '90', '91',\n",
       "       '86', '96', '89', '94', '99'], dtype=object)"
      ]
     },
     "execution_count": 38,
     "metadata": {},
     "output_type": "execute_result"
    }
   ],
   "source": [
    "kcCrime['age'].unique()"
   ]
  },
  {
   "cell_type": "code",
   "execution_count": 35,
   "metadata": {
    "scrolled": true
   },
   "outputs": [
    {
     "data": {
      "text/plain": [
       "array(['64133', '64151', '64068', '64154', '64106', nan, '64130', '64132',\n",
       "       '64111', '64109', '64127', '64125', '64124', '64128', '64114',\n",
       "       '64120', '64119', '64117', '64126', '64123', '64137', '64118',\n",
       "       '64108', '64134', '64157', '64105', '64145', '64129', '64131',\n",
       "       '64149', '64161', '64116', '64110', '64156', '64158', '64138',\n",
       "       '64040', '64155', '64147', '64086', '64101', '64112', '64113',\n",
       "       '64153', '64146', '64079', '64139', '64030', '64152', '64136',\n",
       "       '66211', '64107', '64163', '64102', '63016', '64121', '66215',\n",
       "       '64053', '64115', '64197', '64050', '64052', '54139', '64015',\n",
       "       '64515', '64199', '66203', '6414', '64054', '64055', '64141',\n",
       "       '64104', '64150', '6413', '64012', '6411', '61437', '65102',\n",
       "       '67801', '65265', '64166', '64122', '64014', '66012', '61133',\n",
       "       '66412', '64056', '65129', '64217', '64103', '64024', '99999',\n",
       "       '63440', '66101', '65802', '34127', '32920', '63131', '64313',\n",
       "       '64019', '63137', '66160', '64159', '64650', '64016', '66103',\n",
       "       '66118', '34128', '65251', '92240', '65153', '64506', '6114',\n",
       "       '6137', '65152', '66112', '65542', '64218', '64081', '64165',\n",
       "       '6154', '64011', '64018', '66061', '64064'], dtype=object)"
      ]
     },
     "execution_count": 35,
     "metadata": {},
     "output_type": "execute_result"
    }
   ],
   "source": [
    "kcCrime['zip_code'].unique()"
   ]
  },
  {
   "cell_type": "code",
   "execution_count": 34,
   "metadata": {},
   "outputs": [
    {
     "data": {
      "text/plain": [
       "array(['345', '412', '999', '423', nan, '224', '242', '121', '142', '221',\n",
       "       '115', '334', '344', '144', '315', '233', '241', '632', '222',\n",
       "       '333', '341', '323', '531', '413', '534', '112', '542', '543',\n",
       "       '331', '535', '634', '312', '545', '533', '342', '113', '541',\n",
       "       '631', '134', '425', '313', '131', '212', '321', '415', '211',\n",
       "       '643', '532', '244', '223', '314', '243', '234', '124', '642',\n",
       "       '544', '125', '213', '114', '141', 'CPD', '133', '635', '231',\n",
       "       '414', '232', '111', '122', '132', '411', '332', '123', '644',\n",
       "       '633', '322', '421', '324', '641', '343', '636', '422', '311',\n",
       "       '143', '225', 'OSPD', '424', '547', '245', 'PATROL', 'EAST', '238',\n",
       "       '320', '214', 'MPD', 'NPD', '416', '116', '235', '228', '525',\n",
       "       '325', '215', '676', '236', '145', 'NULL', 'EPD', '565', '227',\n",
       "       '539', '210', '675', '117', '000', '64124', '246', '119', '546',\n",
       "       '376', '522', '346', '511', 'OS', '5335', '335', '2099', '524',\n",
       "       '120', '239', '537', '612', '135', '4111', '319', 'CW', '512'],\n",
       "      dtype=object)"
      ]
     },
     "execution_count": 34,
     "metadata": {},
     "output_type": "execute_result"
    }
   ],
   "source": [
    "kcCrime['beat'].unique()"
   ]
  },
  {
   "cell_type": "code",
   "execution_count": 33,
   "metadata": {},
   "outputs": [
    {
     "data": {
      "text/plain": [
       "array(['23C', '23F', nan, '23D', '270', '13B', '90C', '120', '13A', '220',\n",
       "       '240', '13C', '11A', '23H', '90D', '90Z', '100', '290', '90J',\n",
       "       '09A', '11D', '11B', '280', '35A', '200', '26F', '90F', '250',\n",
       "       '26B', '26A', '23B', '520', '23G', '90E', '90G', '370', '35B',\n",
       "       '39A', '510', '40A', '26E', '64A', '26C', '23A', '90A', '23E',\n",
       "       '210', '36B', '09D', '40B', '11C', '40C', '26G', '90B', '26D'],\n",
       "      dtype=object)"
      ]
     },
     "execution_count": 33,
     "metadata": {},
     "output_type": "execute_result"
    }
   ],
   "source": [
    "kcCrime['ibrs'].unique()"
   ]
  },
  {
   "cell_type": "code",
   "execution_count": 15,
   "metadata": {},
   "outputs": [
    {
     "data": {
      "text/plain": [
       "0    2019-03-18T00:00:00.000\n",
       "1    2019-03-19T00:00:00.000\n",
       "2    2019-03-22T00:00:00.000\n",
       "3    2019-03-22T00:00:00.000\n",
       "4    2019-03-25T00:00:00.000\n",
       "5    2019-03-25T00:00:00.000\n",
       "6    2019-03-26T00:00:00.000\n",
       "7    2019-03-27T00:00:00.000\n",
       "8    2019-03-27T00:00:00.000\n",
       "9    2019-03-28T00:00:00.000\n",
       "Name: reported_date, dtype: object"
      ]
     },
     "execution_count": 15,
     "metadata": {},
     "output_type": "execute_result"
    }
   ],
   "source": [
    "kcCrime['reported_date'].head(10)"
   ]
  },
  {
   "cell_type": "markdown",
   "metadata": {},
   "source": [
    "Format the time variables."
   ]
  },
  {
   "cell_type": "code",
   "execution_count": 16,
   "metadata": {
    "scrolled": true
   },
   "outputs": [
    {
     "name": "stderr",
     "output_type": "stream",
     "text": [
      "/home/rducky/anaconda3/lib/python3.7/site-packages/ipykernel_launcher.py:2: SettingWithCopyWarning: \n",
      "A value is trying to be set on a copy of a slice from a DataFrame\n",
      "\n",
      "See the caveats in the documentation: http://pandas.pydata.org/pandas-docs/stable/user_guide/indexing.html#returning-a-view-versus-a-copy\n",
      "  \n"
     ]
    }
   ],
   "source": [
    "for i in range(0, len(kcCrime['reported_date'])):\n",
    "    kcCrime['reported_date'][i] = kcCrime['reported_date'][i][:10]"
   ]
  },
  {
   "cell_type": "code",
   "execution_count": 17,
   "metadata": {
    "scrolled": true
   },
   "outputs": [
    {
     "data": {
      "text/plain": [
       "report_no                      object\n",
       "reported_date                  object\n",
       "reported_time                  object\n",
       "from_date                      object\n",
       "from_time                      object\n",
       "offense                        object\n",
       "ibrs                           object\n",
       "description                    object\n",
       "beat                           object\n",
       "address                        object\n",
       "city                           object\n",
       "zip_code                       object\n",
       "rep_dist                       object\n",
       "area                           object\n",
       "dvflag                         object\n",
       "involvement                    object\n",
       "firearm_used_flag                bool\n",
       "to_date                        object\n",
       "to_time                        object\n",
       "race                           object\n",
       "sex                            object\n",
       "age                            object\n",
       "location                       object\n",
       ":@computed_region_kk66_ngf4    object\n",
       ":@computed_region_9t2m_phkm    object\n",
       ":@computed_region_my34_vmp8    object\n",
       ":@computed_region_w4hf_t6bp    object\n",
       "dtype: object"
      ]
     },
     "execution_count": 17,
     "metadata": {},
     "output_type": "execute_result"
    }
   ],
   "source": [
    "kcCrime.dtypes"
   ]
  },
  {
   "cell_type": "code",
   "execution_count": 18,
   "metadata": {
    "scrolled": false
   },
   "outputs": [
    {
     "data": {
      "text/plain": [
       "0    2019-03-18\n",
       "1    2019-03-19\n",
       "2    2019-03-22\n",
       "3    2019-03-22\n",
       "4    2019-03-25\n",
       "Name: reported_date, dtype: object"
      ]
     },
     "execution_count": 18,
     "metadata": {},
     "output_type": "execute_result"
    }
   ],
   "source": [
    "kcCrime['reported_date'].head()"
   ]
  },
  {
   "cell_type": "code",
   "execution_count": 28,
   "metadata": {},
   "outputs": [],
   "source": [
    "kcCrime['reported_date'] = pd.to_datetime(kcCrime['reported_date'])"
   ]
  },
  {
   "cell_type": "code",
   "execution_count": 30,
   "metadata": {},
   "outputs": [],
   "source": [
    "kcCrime['month'] = kcCrime['reported_date'].dt.strftime('%b')"
   ]
  },
  {
   "cell_type": "code",
   "execution_count": 31,
   "metadata": {},
   "outputs": [
    {
     "data": {
      "text/plain": [
       "report_no                              object\n",
       "reported_date                  datetime64[ns]\n",
       "reported_time                          object\n",
       "from_date                              object\n",
       "from_time                              object\n",
       "offense                                object\n",
       "ibrs                                   object\n",
       "description                            object\n",
       "beat                                   object\n",
       "address                                object\n",
       "city                                   object\n",
       "zip_code                               object\n",
       "rep_dist                               object\n",
       "area                                   object\n",
       "dvflag                                 object\n",
       "involvement                            object\n",
       "firearm_used_flag                        bool\n",
       "to_date                                object\n",
       "to_time                                object\n",
       "race                                   object\n",
       "sex                                    object\n",
       "age                                    object\n",
       "location                               object\n",
       ":@computed_region_kk66_ngf4            object\n",
       ":@computed_region_9t2m_phkm            object\n",
       ":@computed_region_my34_vmp8            object\n",
       ":@computed_region_w4hf_t6bp            object\n",
       "month                                  object\n",
       "dtype: object"
      ]
     },
     "execution_count": 31,
     "metadata": {},
     "output_type": "execute_result"
    }
   ],
   "source": [
    "kcCrime.dtypes"
   ]
  },
  {
   "cell_type": "code",
   "execution_count": 32,
   "metadata": {},
   "outputs": [
    {
     "data": {
      "text/html": [
       "<div>\n",
       "<style scoped>\n",
       "    .dataframe tbody tr th:only-of-type {\n",
       "        vertical-align: middle;\n",
       "    }\n",
       "\n",
       "    .dataframe tbody tr th {\n",
       "        vertical-align: top;\n",
       "    }\n",
       "\n",
       "    .dataframe thead th {\n",
       "        text-align: right;\n",
       "    }\n",
       "</style>\n",
       "<table border=\"1\" class=\"dataframe\">\n",
       "  <thead>\n",
       "    <tr style=\"text-align: right;\">\n",
       "      <th></th>\n",
       "      <th>report_no</th>\n",
       "      <th>reported_date</th>\n",
       "      <th>reported_time</th>\n",
       "      <th>from_date</th>\n",
       "      <th>from_time</th>\n",
       "      <th>offense</th>\n",
       "      <th>ibrs</th>\n",
       "      <th>description</th>\n",
       "      <th>beat</th>\n",
       "      <th>address</th>\n",
       "      <th>...</th>\n",
       "      <th>to_time</th>\n",
       "      <th>race</th>\n",
       "      <th>sex</th>\n",
       "      <th>age</th>\n",
       "      <th>location</th>\n",
       "      <th>:@computed_region_kk66_ngf4</th>\n",
       "      <th>:@computed_region_9t2m_phkm</th>\n",
       "      <th>:@computed_region_my34_vmp8</th>\n",
       "      <th>:@computed_region_w4hf_t6bp</th>\n",
       "      <th>month</th>\n",
       "    </tr>\n",
       "  </thead>\n",
       "  <tbody>\n",
       "    <tr>\n",
       "      <th>0</th>\n",
       "      <td>KC19019779</td>\n",
       "      <td>2019-03-18</td>\n",
       "      <td>14:18</td>\n",
       "      <td>2019-03-18T00:00:00.000</td>\n",
       "      <td>14:30</td>\n",
       "      <td>Stealing – Shoplift</td>\n",
       "      <td>23C</td>\n",
       "      <td>Shoplifting</td>\n",
       "      <td>345</td>\n",
       "      <td>11600 E US 40 HWY</td>\n",
       "      <td>...</td>\n",
       "      <td>NaN</td>\n",
       "      <td>NaN</td>\n",
       "      <td>NaN</td>\n",
       "      <td>NaN</td>\n",
       "      <td>NaN</td>\n",
       "      <td>NaN</td>\n",
       "      <td>NaN</td>\n",
       "      <td>NaN</td>\n",
       "      <td>NaN</td>\n",
       "      <td>Mar</td>\n",
       "    </tr>\n",
       "    <tr>\n",
       "      <th>1</th>\n",
       "      <td>KC19019997</td>\n",
       "      <td>2019-03-19</td>\n",
       "      <td>10:14</td>\n",
       "      <td>2019-03-18T00:00:00.000</td>\n",
       "      <td>23:00</td>\n",
       "      <td>Stealing from Auto (Theft from Auto)</td>\n",
       "      <td>23F</td>\n",
       "      <td>Theft From Motor Vehicle</td>\n",
       "      <td>412</td>\n",
       "      <td>5600 N MARSTON AVE</td>\n",
       "      <td>...</td>\n",
       "      <td>7:00</td>\n",
       "      <td>W</td>\n",
       "      <td>F</td>\n",
       "      <td>26</td>\n",
       "      <td>NaN</td>\n",
       "      <td>NaN</td>\n",
       "      <td>NaN</td>\n",
       "      <td>NaN</td>\n",
       "      <td>NaN</td>\n",
       "      <td>Mar</td>\n",
       "    </tr>\n",
       "    <tr>\n",
       "      <th>2</th>\n",
       "      <td>KC19020932</td>\n",
       "      <td>2019-03-22</td>\n",
       "      <td>9:49</td>\n",
       "      <td>2019-03-22T00:00:00.000</td>\n",
       "      <td>10:45</td>\n",
       "      <td>City/Municipal Warrant Arrest</td>\n",
       "      <td>NaN</td>\n",
       "      <td>NaN</td>\n",
       "      <td>999</td>\n",
       "      <td>00 S WATER ST</td>\n",
       "      <td>...</td>\n",
       "      <td>NaN</td>\n",
       "      <td>W</td>\n",
       "      <td>M</td>\n",
       "      <td>43</td>\n",
       "      <td>NaN</td>\n",
       "      <td>NaN</td>\n",
       "      <td>NaN</td>\n",
       "      <td>NaN</td>\n",
       "      <td>NaN</td>\n",
       "      <td>Mar</td>\n",
       "    </tr>\n",
       "    <tr>\n",
       "      <th>3</th>\n",
       "      <td>KC19021110</td>\n",
       "      <td>2019-03-22</td>\n",
       "      <td>21:38</td>\n",
       "      <td>2019-03-22T00:00:00.000</td>\n",
       "      <td>21:30</td>\n",
       "      <td>Stealing – Shoplift</td>\n",
       "      <td>23C</td>\n",
       "      <td>Shoplifting</td>\n",
       "      <td>423</td>\n",
       "      <td>8400 N MADISON AVE</td>\n",
       "      <td>...</td>\n",
       "      <td>NaN</td>\n",
       "      <td>B</td>\n",
       "      <td>F</td>\n",
       "      <td>NaN</td>\n",
       "      <td>{'latitude': '39.248015', 'longitude': '-94.59...</td>\n",
       "      <td>180</td>\n",
       "      <td>5</td>\n",
       "      <td>4</td>\n",
       "      <td>82</td>\n",
       "      <td>Mar</td>\n",
       "    </tr>\n",
       "    <tr>\n",
       "      <th>4</th>\n",
       "      <td>KC19021677</td>\n",
       "      <td>2019-03-25</td>\n",
       "      <td>15:34</td>\n",
       "      <td>2019-03-21T00:00:00.000</td>\n",
       "      <td>16:00</td>\n",
       "      <td>Stealing from Building/Residence</td>\n",
       "      <td>23D</td>\n",
       "      <td>Theft From Building</td>\n",
       "      <td>NaN</td>\n",
       "      <td>00 E 14 ST</td>\n",
       "      <td>...</td>\n",
       "      <td>18:43</td>\n",
       "      <td>W</td>\n",
       "      <td>F</td>\n",
       "      <td>54</td>\n",
       "      <td>NaN</td>\n",
       "      <td>NaN</td>\n",
       "      <td>NaN</td>\n",
       "      <td>NaN</td>\n",
       "      <td>NaN</td>\n",
       "      <td>Mar</td>\n",
       "    </tr>\n",
       "  </tbody>\n",
       "</table>\n",
       "<p>5 rows × 28 columns</p>\n",
       "</div>"
      ],
      "text/plain": [
       "    report_no reported_date reported_time                from_date from_time  \\\n",
       "0  KC19019779    2019-03-18         14:18  2019-03-18T00:00:00.000     14:30   \n",
       "1  KC19019997    2019-03-19         10:14  2019-03-18T00:00:00.000     23:00   \n",
       "2  KC19020932    2019-03-22          9:49  2019-03-22T00:00:00.000     10:45   \n",
       "3  KC19021110    2019-03-22         21:38  2019-03-22T00:00:00.000     21:30   \n",
       "4  KC19021677    2019-03-25         15:34  2019-03-21T00:00:00.000     16:00   \n",
       "\n",
       "                                offense ibrs               description beat  \\\n",
       "0                   Stealing – Shoplift  23C               Shoplifting  345   \n",
       "1  Stealing from Auto (Theft from Auto)  23F  Theft From Motor Vehicle  412   \n",
       "2         City/Municipal Warrant Arrest  NaN                       NaN  999   \n",
       "3                   Stealing – Shoplift  23C               Shoplifting  423   \n",
       "4      Stealing from Building/Residence  23D       Theft From Building  NaN   \n",
       "\n",
       "              address  ... to_time race  sex  age  \\\n",
       "0   11600 E US 40 HWY  ...     NaN  NaN  NaN  NaN   \n",
       "1  5600 N MARSTON AVE  ...    7:00    W    F   26   \n",
       "2       00 S WATER ST  ...     NaN    W    M   43   \n",
       "3  8400 N MADISON AVE  ...     NaN    B    F  NaN   \n",
       "4          00 E 14 ST  ...   18:43    W    F   54   \n",
       "\n",
       "                                            location  \\\n",
       "0                                                NaN   \n",
       "1                                                NaN   \n",
       "2                                                NaN   \n",
       "3  {'latitude': '39.248015', 'longitude': '-94.59...   \n",
       "4                                                NaN   \n",
       "\n",
       "  :@computed_region_kk66_ngf4  :@computed_region_9t2m_phkm  \\\n",
       "0                         NaN                          NaN   \n",
       "1                         NaN                          NaN   \n",
       "2                         NaN                          NaN   \n",
       "3                         180                            5   \n",
       "4                         NaN                          NaN   \n",
       "\n",
       "  :@computed_region_my34_vmp8 :@computed_region_w4hf_t6bp month  \n",
       "0                         NaN                         NaN   Mar  \n",
       "1                         NaN                         NaN   Mar  \n",
       "2                         NaN                         NaN   Mar  \n",
       "3                           4                          82   Mar  \n",
       "4                         NaN                         NaN   Mar  \n",
       "\n",
       "[5 rows x 28 columns]"
      ]
     },
     "execution_count": 32,
     "metadata": {},
     "output_type": "execute_result"
    }
   ],
   "source": [
    "kcCrime.head()"
   ]
  }
 ],
 "metadata": {
  "kernelspec": {
   "display_name": "Python 3",
   "language": "python",
   "name": "python3"
  },
  "language_info": {
   "codemirror_mode": {
    "name": "ipython",
    "version": 3
   },
   "file_extension": ".py",
   "mimetype": "text/x-python",
   "name": "python",
   "nbconvert_exporter": "python",
   "pygments_lexer": "ipython3",
   "version": "3.7.3"
  }
 },
 "nbformat": 4,
 "nbformat_minor": 2
}
