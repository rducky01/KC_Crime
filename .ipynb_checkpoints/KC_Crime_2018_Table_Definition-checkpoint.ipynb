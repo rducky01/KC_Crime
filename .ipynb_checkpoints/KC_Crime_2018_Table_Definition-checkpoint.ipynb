{
 "cells": [
  {
   "cell_type": "markdown",
   "metadata": {},
   "source": [
    "# KC_Crime_2018 Table Definition."
   ]
  },
  {
   "cell_type": "markdown",
   "metadata": {},
   "source": [
    "In this notebook we use psycopg2 package to connect to a postgres instance I have running in my AWS instance and create the table for the 2018 KC_Crime data. To do this we'll use a package that I built to connect to the server."
   ]
  },
  {
   "cell_type": "code",
   "execution_count": 17,
   "metadata": {},
   "outputs": [
    {
     "name": "stdout",
     "output_type": "stream",
     "text": [
      "········\n"
     ]
    }
   ],
   "source": [
    "# Import neccesary packages.\n",
    "import data_science_connect\n",
    "from data_science_connect import connection"
   ]
  },
  {
   "cell_type": "markdown",
   "metadata": {},
   "source": [
    "Define the table."
   ]
  },
  {
   "cell_type": "code",
   "execution_count": 18,
   "metadata": {},
   "outputs": [],
   "source": [
    "CREATE_SQL = \"\"\"\n",
    "    DROP TABLE IF EXISTS KC_Crime_2018;\n",
    "    CREATE TABLE KC_Crime_2018 (\n",
    "        report_no INT NOT NULL,\n",
    "        reported_date TIMESTAMP,\n",
    "        reported_time VARCHAR(255),\n",
    "        from_date TIMESTAMP,\n",
    "        from_time VARCHAR(50),\n",
    "        to_date TIMESTAMP,\n",
    "        to_time VARCHAR(50),\n",
    "        offense INT,\n",
    "        ibrs VARCHAR(50),\n",
    "        desription VARCHAR(255),\n",
    "        beat INT,\n",
    "        address VARCHAR(255),\n",
    "        city VARCHAR(255),\n",
    "        zip_code VARCHAR(255),\n",
    "        rep_dist VARCHAR(255),\n",
    "        area VARCHAR(255),\n",
    "        dvflag VARCHAR(255),\n",
    "        invl_no INT,\n",
    "        involvement VARCHAR(50),\n",
    "        race VARCHAR(255),\n",
    "        sex VARCHAR(255),\n",
    "        age INT,\n",
    "        firearm_used_flag VARCHAR(255),\n",
    "        longitude FLOAT(8),\n",
    "        latitude FLOAT(8),\n",
    "        PRIMARY KEY (report_no)\n",
    "    );\n",
    "\"\"\"\n",
    "\n",
    "with connection, connection.cursor() as cursor:\n",
    "    cursor.execute(CREATE_SQL)"
   ]
  },
  {
   "cell_type": "markdown",
   "metadata": {},
   "source": [
    "Run a quick query to be sure the table was created successfully."
   ]
  },
  {
   "cell_type": "code",
   "execution_count": 21,
   "metadata": {},
   "outputs": [
    {
     "data": {
      "text/html": [
       "<div>\n",
       "<style scoped>\n",
       "    .dataframe tbody tr th:only-of-type {\n",
       "        vertical-align: middle;\n",
       "    }\n",
       "\n",
       "    .dataframe tbody tr th {\n",
       "        vertical-align: top;\n",
       "    }\n",
       "\n",
       "    .dataframe thead th {\n",
       "        text-align: right;\n",
       "    }\n",
       "</style>\n",
       "<table border=\"1\" class=\"dataframe\">\n",
       "  <thead>\n",
       "    <tr style=\"text-align: right;\">\n",
       "      <th></th>\n",
       "      <th>report_no</th>\n",
       "      <th>reported_date</th>\n",
       "      <th>reported_time</th>\n",
       "      <th>from_date</th>\n",
       "      <th>from_time</th>\n",
       "      <th>to_date</th>\n",
       "      <th>to_time</th>\n",
       "      <th>offense</th>\n",
       "      <th>ibrs</th>\n",
       "      <th>desription</th>\n",
       "      <th>...</th>\n",
       "      <th>area</th>\n",
       "      <th>dvflag</th>\n",
       "      <th>invl_no</th>\n",
       "      <th>involvement</th>\n",
       "      <th>race</th>\n",
       "      <th>sex</th>\n",
       "      <th>age</th>\n",
       "      <th>firearm_used_flag</th>\n",
       "      <th>longitude</th>\n",
       "      <th>latitude</th>\n",
       "    </tr>\n",
       "  </thead>\n",
       "  <tbody>\n",
       "  </tbody>\n",
       "</table>\n",
       "<p>0 rows × 25 columns</p>\n",
       "</div>"
      ],
      "text/plain": [
       "Empty DataFrame\n",
       "Columns: [report_no, reported_date, reported_time, from_date, from_time, to_date, to_time, offense, ibrs, desription, beat, address, city, zip_code, rep_dist, area, dvflag, invl_no, involvement, race, sex, age, firearm_used_flag, longitude, latitude]\n",
       "Index: []\n",
       "\n",
       "[0 rows x 25 columns]"
      ]
     },
     "execution_count": 21,
     "metadata": {},
     "output_type": "execute_result"
    }
   ],
   "source": [
    "import pandas as pd\n",
    "\n",
    "SQL_QUERY = \"\"\"\n",
    "    SELECT *\n",
    "    FROM KC_Crime_2018;\n",
    "\"\"\"\n",
    "\n",
    "pd.read_sql(SQL_QUERY, connection)"
   ]
  }
 ],
 "metadata": {
  "kernelspec": {
   "display_name": "Python 3",
   "language": "python",
   "name": "python3"
  },
  "language_info": {
   "codemirror_mode": {
    "name": "ipython",
    "version": 3
   },
   "file_extension": ".py",
   "mimetype": "text/x-python",
   "name": "python",
   "nbconvert_exporter": "python",
   "pygments_lexer": "ipython3",
   "version": "3.7.0"
  }
 },
 "nbformat": 4,
 "nbformat_minor": 2
}
