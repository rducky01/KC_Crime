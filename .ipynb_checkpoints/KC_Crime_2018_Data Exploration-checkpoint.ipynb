{
 "cells": [
  {
   "cell_type": "markdown",
   "metadata": {},
   "source": [
    "# KC_Crime_2018 Data Exploration"
   ]
  },
  {
   "cell_type": "markdown",
   "metadata": {},
   "source": [
    "In this notebook I will explore the data, mold it into the proper form form defined in the table definition notebook, and load the data into the database table. This was first done in the R strict entitled KC_Crime_Miner.R. I will attempt to recreate this in python language, since my connection to the Postgres database I'm storing my data in will be established with a Python package. For this I use a package I wrote which uses the psycopg2 package as a means to connect."
   ]
  },
  {
   "cell_type": "markdown",
   "metadata": {},
   "source": [
    "This data set comes from Socrata.com, and contains information on Crime in Kansas City, Missouri, in 2018. There are 24 columns in the dataset comprised of the following.\n",
    "\n",
    "Report_No - Unique number assigned to a case, throughout the life of a case numerous reports can be written.<br>\n",
    "Reported_Date - Date the offense was reported.<br>\n",
    "Reported_Time - Time the offense was reported.<br>\n",
    "From_Date - Earliest date the incident could have occurred.<br>\n",
    "From_Time - Earliest time the incident could have occurred.<br>\n",
    "To_Date - Latest date the incident could have occurred.<br>\n",
    "To_Time\t- Latest time the incident could have occurred.<br>\n",
    "Offense\t- Offense code.<br>\n",
    "IBRS - National Incident Based Reporting System offense code.<br>\n",
    "Description - Short description of the offense.<br>\n",
    "Beat - Area where offense occurred.<br>\n",
    "Address\t- Cross streets of address where offense occurred.<br>\n",
    "City<br>\n",
    "Zip Code<br>\n",
    "Rep_Dist - Area where offense occurred.<br>\n",
    "Area - Division the offense occurred in (Central, East, Metro, South, North, and Shoal Creek).<br>\n",
    "DVFlag - Indicates if it was a domestic violence offense.<br>\n",
    "Invl_No - On the report the involvement number of the persons listed ex; (Suspect # 1, Suspect #2 etc)<br>\n",
    "Involvement\t- A person’s involvement in the case (sus-suspect, vic-victim, arr-arrestee)<br>\n",
    "Race<br>\n",
    "Sex<br>\n",
    "Age\tAge of victim/suspect/arrestee. If the victim/suspect/arrestee is a juvenile, the age is left blank<br>\n",
    "Number<br>\n",
    "Firearm Used Flag - Indicates if a firearm was used in the offense<br>\n",
    "Plain Text<br>\n",
    "Location - Longitude and Latitude.<br>"
   ]
  }
 ],
 "metadata": {
  "kernelspec": {
   "display_name": "Python 3",
   "language": "python",
   "name": "python3"
  },
  "language_info": {
   "codemirror_mode": {
    "name": "ipython",
    "version": 3
   },
   "file_extension": ".py",
   "mimetype": "text/x-python",
   "name": "python",
   "nbconvert_exporter": "python",
   "pygments_lexer": "ipython3",
   "version": "3.6.6"
  }
 },
 "nbformat": 4,
 "nbformat_minor": 2
}
